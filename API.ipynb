{
  "nbformat": 4,
  "nbformat_minor": 0,
  "metadata": {
    "colab": {
      "name": "API.ipynb",
      "provenance": [],
      "collapsed_sections": [],
      "authorship_tag": "ABX9TyOWP+4Au5aIo6m0jZP4EEF5",
      "include_colab_link": true
    },
    "kernelspec": {
      "name": "python3",
      "display_name": "Python 3"
    },
    "language_info": {
      "name": "python"
    }
  },
  "cells": [
    {
      "cell_type": "markdown",
      "metadata": {
        "id": "view-in-github",
        "colab_type": "text"
      },
      "source": [
        "<a href=\"https://colab.research.google.com/github/MILCKUSH/Creuse-Movie-Project/blob/Etude-diverse/API.ipynb\" target=\"_parent\"><img src=\"https://colab.research.google.com/assets/colab-badge.svg\" alt=\"Open In Colab\"/></a>"
      ]
    },
    {
      "cell_type": "code",
      "metadata": {
        "id": "NN69CIVVxSFY"
      },
      "source": [
        "pd.options.display.max_colwidth=1000"
      ],
      "execution_count": null,
      "outputs": []
    },
    {
      "cell_type": "code",
      "metadata": {
        "id": "JsZKocO2r6fk"
      },
      "source": [
        "# importing required libraries\n",
        "import pandas as pd\n",
        "import numpy as np\n",
        "import json\n",
        "from pandas.io.json import json_normalize\n",
        "import requests"
      ],
      "execution_count": null,
      "outputs": []
    },
    {
      "cell_type": "code",
      "metadata": {
        "id": "tA3Dl2J5gCBg"
      },
      "source": [
        "# lien des données \n",
        "url = \"https://data.nantesmetropole.fr/api/records/1.0/search/?dataset=244400404_stations-velos-libre-service-nantes-metropole-disponibilites&q=&facet=banking&facet=bonus&facet=status&facet=contract_name\""
      ],
      "execution_count": null,
      "outputs": []
    },
    {
      "cell_type": "markdown",
      "metadata": {
        "id": "dOiK-VEMrTyr"
      },
      "source": [
        ""
      ]
    },
    {
      "cell_type": "code",
      "metadata": {
        "id": "QHg9GC6ugu5v"
      },
      "source": [
        "# requête dus serveur vers le lien\n",
        "# requêtes depuis le protocole HTTP\n",
        "r = requests.get(url)"
      ],
      "execution_count": null,
      "outputs": []
    },
    {
      "cell_type": "code",
      "metadata": {
        "colab": {
          "base_uri": "https://localhost:8080/"
        },
        "id": "Z9UiMKQ9A8HT",
        "outputId": "d45cdb29-2bfd-400b-8762-ad58a8ec2d48"
      },
      "source": [
        "# le résultat est un code 200, cela signifie que le protocole HTTP a bien transféré des données\n",
        "r"
      ],
      "execution_count": null,
      "outputs": [
        {
          "output_type": "execute_result",
          "data": {
            "text/plain": [
              "<Response [200]>"
            ]
          },
          "metadata": {
            "tags": []
          },
          "execution_count": 11
        }
      ]
    },
    {
      "cell_type": "code",
      "metadata": {
        "id": "ujBqGlE8nR_v"
      },
      "source": [
        "# r en JSON\n",
        "data = r.json()"
      ],
      "execution_count": null,
      "outputs": []
    },
    {
      "cell_type": "code",
      "metadata": {
        "colab": {
          "base_uri": "https://localhost:8080/"
        },
        "id": "wSPW42mdbdQs",
        "outputId": "4bff0258-430e-4325-eb24-ead2588fbe2b"
      },
      "source": [
        "# notre dictionnaire\n",
        "data"
      ],
      "execution_count": null,
      "outputs": [
        {
          "output_type": "execute_result",
          "data": {
            "text/plain": [
              "{'facet_groups': [{'facets': [{'count': 126,\n",
              "     'name': 'False',\n",
              "     'path': 'False',\n",
              "     'state': 'displayed'}],\n",
              "   'name': 'bonus'},\n",
              "  {'facets': [{'count': 95,\n",
              "     'name': 'False',\n",
              "     'path': 'False',\n",
              "     'state': 'displayed'},\n",
              "    {'count': 31, 'name': 'True', 'path': 'True', 'state': 'displayed'}],\n",
              "   'name': 'banking'},\n",
              "  {'facets': [{'count': 124,\n",
              "     'name': 'OPEN',\n",
              "     'path': 'OPEN',\n",
              "     'state': 'displayed'},\n",
              "    {'count': 2, 'name': 'CLOSED', 'path': 'CLOSED', 'state': 'displayed'}],\n",
              "   'name': 'status'},\n",
              "  {'facets': [{'count': 126,\n",
              "     'name': 'nantes',\n",
              "     'path': 'nantes',\n",
              "     'state': 'refined'}],\n",
              "   'name': 'contract_name'}],\n",
              " 'nhits': 126,\n",
              " 'parameters': {'dataset': ['244400404_stations-velos-libre-service-nantes-metropole-disponibilites'],\n",
              "  'facet': ['banking', 'bonus', 'status', 'contract_name'],\n",
              "  'format': 'json',\n",
              "  'rows': 10,\n",
              "  'start': 0,\n",
              "  'timezone': 'UTC'},\n",
              " 'records': [{'datasetid': '244400404_stations-velos-libre-service-nantes-metropole-disponibilites',\n",
              "   'fields': {'address': '5, boulevard de Berlin',\n",
              "    'available_bike_stands': 0,\n",
              "    'available_bikes': 0,\n",
              "    'banking': 'False',\n",
              "    'bike_stands': 20,\n",
              "    'bonus': 'False',\n",
              "    'contract_name': 'nantes',\n",
              "    'last_update': '2021-06-04T08:13:22+00:00',\n",
              "    'name': '051-TABARLY',\n",
              "    'number': 51,\n",
              "    'position': [47.2141946315, -1.52973588598],\n",
              "    'status': 'OPEN'},\n",
              "   'geometry': {'coordinates': [-1.52973588598, 47.2141946315],\n",
              "    'type': 'Point'},\n",
              "   'record_timestamp': '1970-01-01T00:00:00+00:00',\n",
              "   'recordid': 'b12ccb4c03bfa6fa81782d7f1efa28eae5fd75fc'},\n",
              "  {'datasetid': '244400404_stations-velos-libre-service-nantes-metropole-disponibilites',\n",
              "   'fields': {'address': \"42, boulevard Gabriel Guist'Hau\",\n",
              "    'available_bike_stands': 6,\n",
              "    'available_bikes': 8,\n",
              "    'banking': 'False',\n",
              "    'bike_stands': 15,\n",
              "    'bonus': 'False',\n",
              "    'contract_name': 'nantes',\n",
              "    'last_update': '2021-06-10T14:48:41+00:00',\n",
              "    'name': \"027-GUIST'HAU NORD\",\n",
              "    'number': 27,\n",
              "    'position': [47.2179298163, -1.5691718833],\n",
              "    'status': 'OPEN'},\n",
              "   'geometry': {'coordinates': [-1.5691718833, 47.2179298163],\n",
              "    'type': 'Point'},\n",
              "   'record_timestamp': '1970-01-01T00:00:00+00:00',\n",
              "   'recordid': '9874eceb4ae4c0482fa4d881483dd9e55410f0e4'},\n",
              "  {'datasetid': '244400404_stations-velos-libre-service-nantes-metropole-disponibilites',\n",
              "   'fields': {'address': 'Pont de la Tortière - boulevard Eugène Orieux',\n",
              "    'available_bike_stands': 15,\n",
              "    'available_bikes': 1,\n",
              "    'banking': 'True',\n",
              "    'bike_stands': 16,\n",
              "    'bonus': 'False',\n",
              "    'contract_name': 'nantes',\n",
              "    'last_update': '2021-06-10T14:47:32+00:00',\n",
              "    'name': '096-TORTIÈRE',\n",
              "    'number': 96,\n",
              "    'position': [47.2353352222, -1.54922176681],\n",
              "    'status': 'OPEN'},\n",
              "   'geometry': {'coordinates': [-1.54922176681, 47.2353352222],\n",
              "    'type': 'Point'},\n",
              "   'record_timestamp': '1970-01-01T00:00:00+00:00',\n",
              "   'recordid': '6d70f15c6407de2fe69db94e59b65a71a2fa9784'},\n",
              "  {'datasetid': '244400404_stations-velos-libre-service-nantes-metropole-disponibilites',\n",
              "   'fields': {'address': '2, rue de Jemmapes - 2, avenue Jean-Claude Bonduelle',\n",
              "    'available_bike_stands': 21,\n",
              "    'available_bikes': 13,\n",
              "    'banking': 'True',\n",
              "    'bike_stands': 34,\n",
              "    'bonus': 'False',\n",
              "    'contract_name': 'nantes',\n",
              "    'last_update': '2021-06-10T14:47:37+00:00',\n",
              "    'name': '054-CITÉ INTERNATIONALE DES CONGRÈS',\n",
              "    'number': 54,\n",
              "    'position': [47.2131800855, -1.54495254167],\n",
              "    'status': 'OPEN'},\n",
              "   'geometry': {'coordinates': [-1.54495254167, 47.2131800855],\n",
              "    'type': 'Point'},\n",
              "   'record_timestamp': '1970-01-01T00:00:00+00:00',\n",
              "   'recordid': '9f89d496439e62adc8b5999718c9ac8a24ad21a3'},\n",
              "  {'datasetid': '244400404_stations-velos-libre-service-nantes-metropole-disponibilites',\n",
              "   'fields': {'address': 'Rue Stanislas Baudry',\n",
              "    'available_bike_stands': 24,\n",
              "    'available_bikes': 16,\n",
              "    'banking': 'False',\n",
              "    'bike_stands': 40,\n",
              "    'bonus': 'False',\n",
              "    'contract_name': 'nantes',\n",
              "    'last_update': '2021-06-10T14:47:38+00:00',\n",
              "    'name': '060-GARE DE NANTES NORD',\n",
              "    'number': 60,\n",
              "    'position': [47.219009, -1.544071],\n",
              "    'status': 'OPEN'},\n",
              "   'geometry': {'coordinates': [-1.544071, 47.219009], 'type': 'Point'},\n",
              "   'record_timestamp': '1970-01-01T00:00:00+00:00',\n",
              "   'recordid': '8cc14b270ba339bbcb63c08161f75c222d566ddb'},\n",
              "  {'datasetid': '244400404_stations-velos-libre-service-nantes-metropole-disponibilites',\n",
              "   'fields': {'address': '9, cours Sully',\n",
              "    'available_bike_stands': 7,\n",
              "    'available_bikes': 8,\n",
              "    'banking': 'False',\n",
              "    'bike_stands': 15,\n",
              "    'bonus': 'False',\n",
              "    'contract_name': 'nantes',\n",
              "    'last_update': '2021-06-10T14:49:03+00:00',\n",
              "    'name': '065-COURS SULLY',\n",
              "    'number': 65,\n",
              "    'position': [47.2225873399, -1.55166644255],\n",
              "    'status': 'OPEN'},\n",
              "   'geometry': {'coordinates': [-1.55166644255, 47.2225873399],\n",
              "    'type': 'Point'},\n",
              "   'record_timestamp': '1970-01-01T00:00:00+00:00',\n",
              "   'recordid': '7ff48fa227a2063f2973492699250a2f85363c96'},\n",
              "  {'datasetid': '244400404_stations-velos-libre-service-nantes-metropole-disponibilites',\n",
              "   'fields': {'address': '15, quai de Malakoff',\n",
              "    'available_bike_stands': 3,\n",
              "    'available_bikes': 12,\n",
              "    'banking': 'False',\n",
              "    'bike_stands': 15,\n",
              "    'bonus': 'False',\n",
              "    'contract_name': 'nantes',\n",
              "    'last_update': '2021-06-10T14:47:04+00:00',\n",
              "    'name': '079-MALAKOFF',\n",
              "    'number': 79,\n",
              "    'position': [47.213395, -1.536954],\n",
              "    'status': 'OPEN'},\n",
              "   'geometry': {'coordinates': [-1.536954, 47.213395], 'type': 'Point'},\n",
              "   'record_timestamp': '1970-01-01T00:00:00+00:00',\n",
              "   'recordid': '992ae6b63fc1d7149c5ac78397eb7da6fbe62e5a'},\n",
              "  {'datasetid': '244400404_stations-velos-libre-service-nantes-metropole-disponibilites',\n",
              "   'fields': {'address': \"8, rue de l'Arche Sèche\",\n",
              "    'available_bike_stands': 10,\n",
              "    'available_bikes': 4,\n",
              "    'banking': 'False',\n",
              "    'bike_stands': 14,\n",
              "    'bonus': 'False',\n",
              "    'contract_name': 'nantes',\n",
              "    'last_update': '2021-06-10T14:47:00+00:00',\n",
              "    'name': '009-GUÉPIN',\n",
              "    'number': 9,\n",
              "    'position': [47.2158145871, -1.55901748517],\n",
              "    'status': 'OPEN'},\n",
              "   'geometry': {'coordinates': [-1.55901748517, 47.2158145871],\n",
              "    'type': 'Point'},\n",
              "   'record_timestamp': '1970-01-01T00:00:00+00:00',\n",
              "   'recordid': '090664986006770fc578d48fa9a374d15cf27644'},\n",
              "  {'datasetid': '244400404_stations-velos-libre-service-nantes-metropole-disponibilites',\n",
              "   'fields': {'address': \"2, rue de Gigant - Place de l'Edit de Nantes\",\n",
              "    'available_bike_stands': 5,\n",
              "    'available_bikes': 7,\n",
              "    'banking': 'False',\n",
              "    'bike_stands': 13,\n",
              "    'bonus': 'False',\n",
              "    'contract_name': 'nantes',\n",
              "    'last_update': '2021-06-10T14:46:07+00:00',\n",
              "    'name': '028-ÉDIT DE NANTES',\n",
              "    'number': 28,\n",
              "    'position': [47.2144634274, -1.56756801666],\n",
              "    'status': 'OPEN'},\n",
              "   'geometry': {'coordinates': [-1.56756801666, 47.2144634274],\n",
              "    'type': 'Point'},\n",
              "   'record_timestamp': '1970-01-01T00:00:00+00:00',\n",
              "   'recordid': 'fff11334fc42e45ca8ccd6fd74147188ceb21735'},\n",
              "  {'datasetid': '244400404_stations-velos-libre-service-nantes-metropole-disponibilites',\n",
              "   'fields': {'address': '4, rue des Carmélites - Place Tirant Lo Blanc',\n",
              "    'available_bike_stands': 11,\n",
              "    'available_bikes': 4,\n",
              "    'banking': 'False',\n",
              "    'bike_stands': 15,\n",
              "    'bonus': 'False',\n",
              "    'contract_name': 'nantes',\n",
              "    'last_update': '2021-06-10T14:51:28+00:00',\n",
              "    'name': '003-STRASBOURG',\n",
              "    'number': 3,\n",
              "    'position': [47.2164797718, -1.55154060535],\n",
              "    'status': 'OPEN'},\n",
              "   'geometry': {'coordinates': [-1.55154060535, 47.2164797718],\n",
              "    'type': 'Point'},\n",
              "   'record_timestamp': '1970-01-01T00:00:00+00:00',\n",
              "   'recordid': 'a77b8d3dd8504a608cf3d52133ccdc6d6e94d6ff'}]}"
            ]
          },
          "metadata": {
            "tags": []
          },
          "execution_count": 15
        }
      ]
    },
    {
      "cell_type": "code",
      "metadata": {
        "colab": {
          "base_uri": "https://localhost:8080/"
        },
        "id": "0cp10Fzcwehw",
        "outputId": "89239cc7-dbaa-4d58-9990-abd8a653d770"
      },
      "source": [
        "# mes clefs\n",
        "data.keys()"
      ],
      "execution_count": null,
      "outputs": [
        {
          "output_type": "execute_result",
          "data": {
            "text/plain": [
              "dict_keys(['nhits', 'parameters', 'records', 'facet_groups'])"
            ]
          },
          "metadata": {
            "tags": []
          },
          "execution_count": 16
        }
      ]
    },
    {
      "cell_type": "code",
      "metadata": {
        "colab": {
          "base_uri": "https://localhost:8080/"
        },
        "id": "7r6R0yHyx73T",
        "outputId": "de40ea66-6e45-4597-cfd8-41afb6b9ca07"
      },
      "source": [
        "# mes valuesw \n",
        "data.values()"
      ],
      "execution_count": null,
      "outputs": [
        {
          "output_type": "execute_result",
          "data": {
            "text/plain": [
              "dict_values([126, {'dataset': ['244400404_stations-velos-libre-service-nantes-metropole-disponibilites'], 'timezone': 'UTC', 'rows': 10, 'start': 0, 'format': 'json', 'facet': ['banking', 'bonus', 'status', 'contract_name']}, [{'datasetid': '244400404_stations-velos-libre-service-nantes-metropole-disponibilites', 'recordid': 'b12ccb4c03bfa6fa81782d7f1efa28eae5fd75fc', 'fields': {'status': 'OPEN', 'contract_name': 'nantes', 'name': '051-TABARLY', 'bonus': 'False', 'bike_stands': 20, 'number': 51, 'last_update': '2021-06-04T08:13:22+00:00', 'available_bike_stands': 0, 'banking': 'False', 'available_bikes': 0, 'address': '5, boulevard de Berlin', 'position': [47.2141946315, -1.52973588598]}, 'geometry': {'type': 'Point', 'coordinates': [-1.52973588598, 47.2141946315]}, 'record_timestamp': '1970-01-01T00:00:00+00:00'}, {'datasetid': '244400404_stations-velos-libre-service-nantes-metropole-disponibilites', 'recordid': '9874eceb4ae4c0482fa4d881483dd9e55410f0e4', 'fields': {'status': 'OPEN', 'contract_name': 'nantes', 'name': \"027-GUIST'HAU NORD\", 'bonus': 'False', 'bike_stands': 15, 'number': 27, 'last_update': '2021-06-10T14:48:41+00:00', 'available_bike_stands': 6, 'banking': 'False', 'available_bikes': 8, 'address': \"42, boulevard Gabriel Guist'Hau\", 'position': [47.2179298163, -1.5691718833]}, 'geometry': {'type': 'Point', 'coordinates': [-1.5691718833, 47.2179298163]}, 'record_timestamp': '1970-01-01T00:00:00+00:00'}, {'datasetid': '244400404_stations-velos-libre-service-nantes-metropole-disponibilites', 'recordid': '6d70f15c6407de2fe69db94e59b65a71a2fa9784', 'fields': {'status': 'OPEN', 'contract_name': 'nantes', 'name': '096-TORTIÈRE', 'bonus': 'False', 'bike_stands': 16, 'number': 96, 'last_update': '2021-06-10T14:47:32+00:00', 'available_bike_stands': 15, 'banking': 'True', 'available_bikes': 1, 'address': 'Pont de la Tortière - boulevard Eugène Orieux', 'position': [47.2353352222, -1.54922176681]}, 'geometry': {'type': 'Point', 'coordinates': [-1.54922176681, 47.2353352222]}, 'record_timestamp': '1970-01-01T00:00:00+00:00'}, {'datasetid': '244400404_stations-velos-libre-service-nantes-metropole-disponibilites', 'recordid': '9f89d496439e62adc8b5999718c9ac8a24ad21a3', 'fields': {'status': 'OPEN', 'contract_name': 'nantes', 'name': '054-CITÉ INTERNATIONALE DES CONGRÈS', 'bonus': 'False', 'bike_stands': 34, 'number': 54, 'last_update': '2021-06-10T14:47:37+00:00', 'available_bike_stands': 21, 'banking': 'True', 'available_bikes': 13, 'address': '2, rue de Jemmapes - 2, avenue Jean-Claude Bonduelle', 'position': [47.2131800855, -1.54495254167]}, 'geometry': {'type': 'Point', 'coordinates': [-1.54495254167, 47.2131800855]}, 'record_timestamp': '1970-01-01T00:00:00+00:00'}, {'datasetid': '244400404_stations-velos-libre-service-nantes-metropole-disponibilites', 'recordid': '8cc14b270ba339bbcb63c08161f75c222d566ddb', 'fields': {'status': 'OPEN', 'contract_name': 'nantes', 'name': '060-GARE DE NANTES NORD', 'bonus': 'False', 'bike_stands': 40, 'number': 60, 'last_update': '2021-06-10T14:47:38+00:00', 'available_bike_stands': 24, 'banking': 'False', 'available_bikes': 16, 'address': 'Rue Stanislas Baudry', 'position': [47.219009, -1.544071]}, 'geometry': {'type': 'Point', 'coordinates': [-1.544071, 47.219009]}, 'record_timestamp': '1970-01-01T00:00:00+00:00'}, {'datasetid': '244400404_stations-velos-libre-service-nantes-metropole-disponibilites', 'recordid': '7ff48fa227a2063f2973492699250a2f85363c96', 'fields': {'status': 'OPEN', 'contract_name': 'nantes', 'name': '065-COURS SULLY', 'bonus': 'False', 'bike_stands': 15, 'number': 65, 'last_update': '2021-06-10T14:49:03+00:00', 'available_bike_stands': 7, 'banking': 'False', 'available_bikes': 8, 'address': '9, cours Sully', 'position': [47.2225873399, -1.55166644255]}, 'geometry': {'type': 'Point', 'coordinates': [-1.55166644255, 47.2225873399]}, 'record_timestamp': '1970-01-01T00:00:00+00:00'}, {'datasetid': '244400404_stations-velos-libre-service-nantes-metropole-disponibilites', 'recordid': '992ae6b63fc1d7149c5ac78397eb7da6fbe62e5a', 'fields': {'status': 'OPEN', 'contract_name': 'nantes', 'name': '079-MALAKOFF', 'bonus': 'False', 'bike_stands': 15, 'number': 79, 'last_update': '2021-06-10T14:47:04+00:00', 'available_bike_stands': 3, 'banking': 'False', 'available_bikes': 12, 'address': '15, quai de Malakoff', 'position': [47.213395, -1.536954]}, 'geometry': {'type': 'Point', 'coordinates': [-1.536954, 47.213395]}, 'record_timestamp': '1970-01-01T00:00:00+00:00'}, {'datasetid': '244400404_stations-velos-libre-service-nantes-metropole-disponibilites', 'recordid': '090664986006770fc578d48fa9a374d15cf27644', 'fields': {'status': 'OPEN', 'contract_name': 'nantes', 'name': '009-GUÉPIN', 'bonus': 'False', 'bike_stands': 14, 'number': 9, 'last_update': '2021-06-10T14:47:00+00:00', 'available_bike_stands': 10, 'banking': 'False', 'available_bikes': 4, 'address': \"8, rue de l'Arche Sèche\", 'position': [47.2158145871, -1.55901748517]}, 'geometry': {'type': 'Point', 'coordinates': [-1.55901748517, 47.2158145871]}, 'record_timestamp': '1970-01-01T00:00:00+00:00'}, {'datasetid': '244400404_stations-velos-libre-service-nantes-metropole-disponibilites', 'recordid': 'fff11334fc42e45ca8ccd6fd74147188ceb21735', 'fields': {'status': 'OPEN', 'contract_name': 'nantes', 'name': '028-ÉDIT DE NANTES', 'bonus': 'False', 'bike_stands': 13, 'number': 28, 'last_update': '2021-06-10T14:46:07+00:00', 'available_bike_stands': 5, 'banking': 'False', 'available_bikes': 7, 'address': \"2, rue de Gigant - Place de l'Edit de Nantes\", 'position': [47.2144634274, -1.56756801666]}, 'geometry': {'type': 'Point', 'coordinates': [-1.56756801666, 47.2144634274]}, 'record_timestamp': '1970-01-01T00:00:00+00:00'}, {'datasetid': '244400404_stations-velos-libre-service-nantes-metropole-disponibilites', 'recordid': 'a77b8d3dd8504a608cf3d52133ccdc6d6e94d6ff', 'fields': {'status': 'OPEN', 'contract_name': 'nantes', 'name': '003-STRASBOURG', 'bonus': 'False', 'bike_stands': 15, 'number': 3, 'last_update': '2021-06-10T14:51:28+00:00', 'available_bike_stands': 11, 'banking': 'False', 'available_bikes': 4, 'address': '4, rue des Carmélites - Place Tirant Lo Blanc', 'position': [47.2164797718, -1.55154060535]}, 'geometry': {'type': 'Point', 'coordinates': [-1.55154060535, 47.2164797718]}, 'record_timestamp': '1970-01-01T00:00:00+00:00'}], [{'facets': [{'count': 126, 'path': 'False', 'state': 'displayed', 'name': 'False'}], 'name': 'bonus'}, {'facets': [{'count': 95, 'path': 'False', 'state': 'displayed', 'name': 'False'}, {'count': 31, 'path': 'True', 'state': 'displayed', 'name': 'True'}], 'name': 'banking'}, {'facets': [{'count': 124, 'path': 'OPEN', 'state': 'displayed', 'name': 'OPEN'}, {'count': 2, 'path': 'CLOSED', 'state': 'displayed', 'name': 'CLOSED'}], 'name': 'status'}, {'facets': [{'count': 126, 'path': 'nantes', 'state': 'refined', 'name': 'nantes'}], 'name': 'contract_name'}]])"
            ]
          },
          "metadata": {
            "tags": []
          },
          "execution_count": 17
        }
      ]
    },
    {
      "cell_type": "code",
      "metadata": {
        "colab": {
          "base_uri": "https://localhost:8080/"
        },
        "id": "JbjImJdhx7xM",
        "outputId": "7e5bd7ed-b9d8-4862-9ea1-de8a97e5d15b"
      },
      "source": [
        "data.items()"
      ],
      "execution_count": null,
      "outputs": [
        {
          "output_type": "execute_result",
          "data": {
            "text/plain": [
              "dict_items([('nhits', 126), ('parameters', {'dataset': ['244400404_stations-velos-libre-service-nantes-metropole-disponibilites'], 'timezone': 'UTC', 'rows': 10, 'start': 0, 'format': 'json', 'facet': ['banking', 'bonus', 'status', 'contract_name']}), ('records', [{'datasetid': '244400404_stations-velos-libre-service-nantes-metropole-disponibilites', 'recordid': 'b12ccb4c03bfa6fa81782d7f1efa28eae5fd75fc', 'fields': {'status': 'OPEN', 'contract_name': 'nantes', 'name': '051-TABARLY', 'bonus': 'False', 'bike_stands': 20, 'number': 51, 'last_update': '2021-06-04T08:13:22+00:00', 'available_bike_stands': 0, 'banking': 'False', 'available_bikes': 0, 'address': '5, boulevard de Berlin', 'position': [47.2141946315, -1.52973588598]}, 'geometry': {'type': 'Point', 'coordinates': [-1.52973588598, 47.2141946315]}, 'record_timestamp': '1970-01-01T00:00:00+00:00'}, {'datasetid': '244400404_stations-velos-libre-service-nantes-metropole-disponibilites', 'recordid': '9874eceb4ae4c0482fa4d881483dd9e55410f0e4', 'fields': {'status': 'OPEN', 'contract_name': 'nantes', 'name': \"027-GUIST'HAU NORD\", 'bonus': 'False', 'bike_stands': 15, 'number': 27, 'last_update': '2021-06-10T14:48:41+00:00', 'available_bike_stands': 6, 'banking': 'False', 'available_bikes': 8, 'address': \"42, boulevard Gabriel Guist'Hau\", 'position': [47.2179298163, -1.5691718833]}, 'geometry': {'type': 'Point', 'coordinates': [-1.5691718833, 47.2179298163]}, 'record_timestamp': '1970-01-01T00:00:00+00:00'}, {'datasetid': '244400404_stations-velos-libre-service-nantes-metropole-disponibilites', 'recordid': '6d70f15c6407de2fe69db94e59b65a71a2fa9784', 'fields': {'status': 'OPEN', 'contract_name': 'nantes', 'name': '096-TORTIÈRE', 'bonus': 'False', 'bike_stands': 16, 'number': 96, 'last_update': '2021-06-10T14:47:32+00:00', 'available_bike_stands': 15, 'banking': 'True', 'available_bikes': 1, 'address': 'Pont de la Tortière - boulevard Eugène Orieux', 'position': [47.2353352222, -1.54922176681]}, 'geometry': {'type': 'Point', 'coordinates': [-1.54922176681, 47.2353352222]}, 'record_timestamp': '1970-01-01T00:00:00+00:00'}, {'datasetid': '244400404_stations-velos-libre-service-nantes-metropole-disponibilites', 'recordid': '9f89d496439e62adc8b5999718c9ac8a24ad21a3', 'fields': {'status': 'OPEN', 'contract_name': 'nantes', 'name': '054-CITÉ INTERNATIONALE DES CONGRÈS', 'bonus': 'False', 'bike_stands': 34, 'number': 54, 'last_update': '2021-06-10T14:47:37+00:00', 'available_bike_stands': 21, 'banking': 'True', 'available_bikes': 13, 'address': '2, rue de Jemmapes - 2, avenue Jean-Claude Bonduelle', 'position': [47.2131800855, -1.54495254167]}, 'geometry': {'type': 'Point', 'coordinates': [-1.54495254167, 47.2131800855]}, 'record_timestamp': '1970-01-01T00:00:00+00:00'}, {'datasetid': '244400404_stations-velos-libre-service-nantes-metropole-disponibilites', 'recordid': '8cc14b270ba339bbcb63c08161f75c222d566ddb', 'fields': {'status': 'OPEN', 'contract_name': 'nantes', 'name': '060-GARE DE NANTES NORD', 'bonus': 'False', 'bike_stands': 40, 'number': 60, 'last_update': '2021-06-10T14:47:38+00:00', 'available_bike_stands': 24, 'banking': 'False', 'available_bikes': 16, 'address': 'Rue Stanislas Baudry', 'position': [47.219009, -1.544071]}, 'geometry': {'type': 'Point', 'coordinates': [-1.544071, 47.219009]}, 'record_timestamp': '1970-01-01T00:00:00+00:00'}, {'datasetid': '244400404_stations-velos-libre-service-nantes-metropole-disponibilites', 'recordid': '7ff48fa227a2063f2973492699250a2f85363c96', 'fields': {'status': 'OPEN', 'contract_name': 'nantes', 'name': '065-COURS SULLY', 'bonus': 'False', 'bike_stands': 15, 'number': 65, 'last_update': '2021-06-10T14:49:03+00:00', 'available_bike_stands': 7, 'banking': 'False', 'available_bikes': 8, 'address': '9, cours Sully', 'position': [47.2225873399, -1.55166644255]}, 'geometry': {'type': 'Point', 'coordinates': [-1.55166644255, 47.2225873399]}, 'record_timestamp': '1970-01-01T00:00:00+00:00'}, {'datasetid': '244400404_stations-velos-libre-service-nantes-metropole-disponibilites', 'recordid': '992ae6b63fc1d7149c5ac78397eb7da6fbe62e5a', 'fields': {'status': 'OPEN', 'contract_name': 'nantes', 'name': '079-MALAKOFF', 'bonus': 'False', 'bike_stands': 15, 'number': 79, 'last_update': '2021-06-10T14:47:04+00:00', 'available_bike_stands': 3, 'banking': 'False', 'available_bikes': 12, 'address': '15, quai de Malakoff', 'position': [47.213395, -1.536954]}, 'geometry': {'type': 'Point', 'coordinates': [-1.536954, 47.213395]}, 'record_timestamp': '1970-01-01T00:00:00+00:00'}, {'datasetid': '244400404_stations-velos-libre-service-nantes-metropole-disponibilites', 'recordid': '090664986006770fc578d48fa9a374d15cf27644', 'fields': {'status': 'OPEN', 'contract_name': 'nantes', 'name': '009-GUÉPIN', 'bonus': 'False', 'bike_stands': 14, 'number': 9, 'last_update': '2021-06-10T14:47:00+00:00', 'available_bike_stands': 10, 'banking': 'False', 'available_bikes': 4, 'address': \"8, rue de l'Arche Sèche\", 'position': [47.2158145871, -1.55901748517]}, 'geometry': {'type': 'Point', 'coordinates': [-1.55901748517, 47.2158145871]}, 'record_timestamp': '1970-01-01T00:00:00+00:00'}, {'datasetid': '244400404_stations-velos-libre-service-nantes-metropole-disponibilites', 'recordid': 'fff11334fc42e45ca8ccd6fd74147188ceb21735', 'fields': {'status': 'OPEN', 'contract_name': 'nantes', 'name': '028-ÉDIT DE NANTES', 'bonus': 'False', 'bike_stands': 13, 'number': 28, 'last_update': '2021-06-10T14:46:07+00:00', 'available_bike_stands': 5, 'banking': 'False', 'available_bikes': 7, 'address': \"2, rue de Gigant - Place de l'Edit de Nantes\", 'position': [47.2144634274, -1.56756801666]}, 'geometry': {'type': 'Point', 'coordinates': [-1.56756801666, 47.2144634274]}, 'record_timestamp': '1970-01-01T00:00:00+00:00'}, {'datasetid': '244400404_stations-velos-libre-service-nantes-metropole-disponibilites', 'recordid': 'a77b8d3dd8504a608cf3d52133ccdc6d6e94d6ff', 'fields': {'status': 'OPEN', 'contract_name': 'nantes', 'name': '003-STRASBOURG', 'bonus': 'False', 'bike_stands': 15, 'number': 3, 'last_update': '2021-06-10T14:51:28+00:00', 'available_bike_stands': 11, 'banking': 'False', 'available_bikes': 4, 'address': '4, rue des Carmélites - Place Tirant Lo Blanc', 'position': [47.2164797718, -1.55154060535]}, 'geometry': {'type': 'Point', 'coordinates': [-1.55154060535, 47.2164797718]}, 'record_timestamp': '1970-01-01T00:00:00+00:00'}]), ('facet_groups', [{'facets': [{'count': 126, 'path': 'False', 'state': 'displayed', 'name': 'False'}], 'name': 'bonus'}, {'facets': [{'count': 95, 'path': 'False', 'state': 'displayed', 'name': 'False'}, {'count': 31, 'path': 'True', 'state': 'displayed', 'name': 'True'}], 'name': 'banking'}, {'facets': [{'count': 124, 'path': 'OPEN', 'state': 'displayed', 'name': 'OPEN'}, {'count': 2, 'path': 'CLOSED', 'state': 'displayed', 'name': 'CLOSED'}], 'name': 'status'}, {'facets': [{'count': 126, 'path': 'nantes', 'state': 'refined', 'name': 'nantes'}], 'name': 'contract_name'}])])"
            ]
          },
          "metadata": {
            "tags": []
          },
          "execution_count": 18
        }
      ]
    },
    {
      "cell_type": "markdown",
      "metadata": {
        "id": "cpB9V6fSK_n3"
      },
      "source": [
        "NOUS DEVONS AFFICHER LES ADRESSE ET LE TAUX DE REMPLISSAGE DES BORNES DE VELOS\n",
        "* available_bikes / ltotal bike_stands).\n",
        "* adresses"
      ]
    },
    {
      "cell_type": "code",
      "metadata": {
        "colab": {
          "base_uri": "https://localhost:8080/"
        },
        "id": "6Yy7TZIox7Y7",
        "outputId": "6da41acc-36c9-40a1-efd7-f4b4df38347d"
      },
      "source": [
        "# le type de notre data est un dict\n",
        "type(data)"
      ],
      "execution_count": null,
      "outputs": [
        {
          "output_type": "execute_result",
          "data": {
            "text/plain": [
              "dict"
            ]
          },
          "metadata": {
            "tags": []
          },
          "execution_count": 19
        }
      ]
    },
    {
      "cell_type": "code",
      "metadata": {
        "id": "vZwWXuCkwZz-"
      },
      "source": [
        "# dict vers dataframe\n",
        "df= pd.json_normalize(data)"
      ],
      "execution_count": null,
      "outputs": []
    },
    {
      "cell_type": "code",
      "metadata": {
        "id": "YxXFm5yxj_Dd"
      },
      "source": [
        "# dict vers dataframe - sur la partie que nous souhaitons \"exploser\"\n",
        "df= pd.json_normalize(data, [\"records\"])"
      ],
      "execution_count": null,
      "outputs": []
    },
    {
      "cell_type": "code",
      "metadata": {
        "colab": {
          "base_uri": "https://localhost:8080/",
          "height": 479
        },
        "id": "E8gNHxjx4HHK",
        "outputId": "f59a19e7-9eee-41b9-d91f-e3ad793b8370"
      },
      "source": [
        "# un aperçu de notre dataframe\n",
        "df.head()"
      ],
      "execution_count": null,
      "outputs": [
        {
          "output_type": "execute_result",
          "data": {
            "text/html": [
              "<div>\n",
              "<style scoped>\n",
              "    .dataframe tbody tr th:only-of-type {\n",
              "        vertical-align: middle;\n",
              "    }\n",
              "\n",
              "    .dataframe tbody tr th {\n",
              "        vertical-align: top;\n",
              "    }\n",
              "\n",
              "    .dataframe thead th {\n",
              "        text-align: right;\n",
              "    }\n",
              "</style>\n",
              "<table border=\"1\" class=\"dataframe\">\n",
              "  <thead>\n",
              "    <tr style=\"text-align: right;\">\n",
              "      <th></th>\n",
              "      <th>datasetid</th>\n",
              "      <th>recordid</th>\n",
              "      <th>record_timestamp</th>\n",
              "      <th>fields.status</th>\n",
              "      <th>fields.contract_name</th>\n",
              "      <th>fields.name</th>\n",
              "      <th>fields.bonus</th>\n",
              "      <th>fields.bike_stands</th>\n",
              "      <th>fields.number</th>\n",
              "      <th>fields.last_update</th>\n",
              "      <th>fields.available_bike_stands</th>\n",
              "      <th>fields.banking</th>\n",
              "      <th>fields.available_bikes</th>\n",
              "      <th>fields.address</th>\n",
              "      <th>fields.position</th>\n",
              "      <th>geometry.type</th>\n",
              "      <th>geometry.coordinates</th>\n",
              "    </tr>\n",
              "  </thead>\n",
              "  <tbody>\n",
              "    <tr>\n",
              "      <th>0</th>\n",
              "      <td>244400404_stations-velos-libre-service-nantes-metropole-disponibilites</td>\n",
              "      <td>b12ccb4c03bfa6fa81782d7f1efa28eae5fd75fc</td>\n",
              "      <td>1970-01-01T00:00:00+00:00</td>\n",
              "      <td>OPEN</td>\n",
              "      <td>nantes</td>\n",
              "      <td>051-TABARLY</td>\n",
              "      <td>False</td>\n",
              "      <td>20</td>\n",
              "      <td>51</td>\n",
              "      <td>2021-06-04T08:13:22+00:00</td>\n",
              "      <td>0</td>\n",
              "      <td>False</td>\n",
              "      <td>0</td>\n",
              "      <td>5, boulevard de Berlin</td>\n",
              "      <td>[47.2141946315, -1.52973588598]</td>\n",
              "      <td>Point</td>\n",
              "      <td>[-1.52973588598, 47.2141946315]</td>\n",
              "    </tr>\n",
              "    <tr>\n",
              "      <th>1</th>\n",
              "      <td>244400404_stations-velos-libre-service-nantes-metropole-disponibilites</td>\n",
              "      <td>9874eceb4ae4c0482fa4d881483dd9e55410f0e4</td>\n",
              "      <td>1970-01-01T00:00:00+00:00</td>\n",
              "      <td>OPEN</td>\n",
              "      <td>nantes</td>\n",
              "      <td>027-GUIST'HAU NORD</td>\n",
              "      <td>False</td>\n",
              "      <td>15</td>\n",
              "      <td>27</td>\n",
              "      <td>2021-06-10T14:48:41+00:00</td>\n",
              "      <td>6</td>\n",
              "      <td>False</td>\n",
              "      <td>8</td>\n",
              "      <td>42, boulevard Gabriel Guist'Hau</td>\n",
              "      <td>[47.2179298163, -1.5691718833]</td>\n",
              "      <td>Point</td>\n",
              "      <td>[-1.5691718833, 47.2179298163]</td>\n",
              "    </tr>\n",
              "    <tr>\n",
              "      <th>2</th>\n",
              "      <td>244400404_stations-velos-libre-service-nantes-metropole-disponibilites</td>\n",
              "      <td>6d70f15c6407de2fe69db94e59b65a71a2fa9784</td>\n",
              "      <td>1970-01-01T00:00:00+00:00</td>\n",
              "      <td>OPEN</td>\n",
              "      <td>nantes</td>\n",
              "      <td>096-TORTIÈRE</td>\n",
              "      <td>False</td>\n",
              "      <td>16</td>\n",
              "      <td>96</td>\n",
              "      <td>2021-06-10T14:47:32+00:00</td>\n",
              "      <td>15</td>\n",
              "      <td>True</td>\n",
              "      <td>1</td>\n",
              "      <td>Pont de la Tortière - boulevard Eugène Orieux</td>\n",
              "      <td>[47.2353352222, -1.54922176681]</td>\n",
              "      <td>Point</td>\n",
              "      <td>[-1.54922176681, 47.2353352222]</td>\n",
              "    </tr>\n",
              "    <tr>\n",
              "      <th>3</th>\n",
              "      <td>244400404_stations-velos-libre-service-nantes-metropole-disponibilites</td>\n",
              "      <td>9f89d496439e62adc8b5999718c9ac8a24ad21a3</td>\n",
              "      <td>1970-01-01T00:00:00+00:00</td>\n",
              "      <td>OPEN</td>\n",
              "      <td>nantes</td>\n",
              "      <td>054-CITÉ INTERNATIONALE DES CONGRÈS</td>\n",
              "      <td>False</td>\n",
              "      <td>34</td>\n",
              "      <td>54</td>\n",
              "      <td>2021-06-10T14:47:37+00:00</td>\n",
              "      <td>21</td>\n",
              "      <td>True</td>\n",
              "      <td>13</td>\n",
              "      <td>2, rue de Jemmapes - 2, avenue Jean-Claude Bonduelle</td>\n",
              "      <td>[47.2131800855, -1.54495254167]</td>\n",
              "      <td>Point</td>\n",
              "      <td>[-1.54495254167, 47.2131800855]</td>\n",
              "    </tr>\n",
              "    <tr>\n",
              "      <th>4</th>\n",
              "      <td>244400404_stations-velos-libre-service-nantes-metropole-disponibilites</td>\n",
              "      <td>8cc14b270ba339bbcb63c08161f75c222d566ddb</td>\n",
              "      <td>1970-01-01T00:00:00+00:00</td>\n",
              "      <td>OPEN</td>\n",
              "      <td>nantes</td>\n",
              "      <td>060-GARE DE NANTES NORD</td>\n",
              "      <td>False</td>\n",
              "      <td>40</td>\n",
              "      <td>60</td>\n",
              "      <td>2021-06-10T14:47:38+00:00</td>\n",
              "      <td>24</td>\n",
              "      <td>False</td>\n",
              "      <td>16</td>\n",
              "      <td>Rue Stanislas Baudry</td>\n",
              "      <td>[47.219009, -1.544071]</td>\n",
              "      <td>Point</td>\n",
              "      <td>[-1.544071, 47.219009]</td>\n",
              "    </tr>\n",
              "  </tbody>\n",
              "</table>\n",
              "</div>"
            ],
            "text/plain": [
              "                                                                datasetid  ...             geometry.coordinates\n",
              "0  244400404_stations-velos-libre-service-nantes-metropole-disponibilites  ...  [-1.52973588598, 47.2141946315]\n",
              "1  244400404_stations-velos-libre-service-nantes-metropole-disponibilites  ...   [-1.5691718833, 47.2179298163]\n",
              "2  244400404_stations-velos-libre-service-nantes-metropole-disponibilites  ...  [-1.54922176681, 47.2353352222]\n",
              "3  244400404_stations-velos-libre-service-nantes-metropole-disponibilites  ...  [-1.54495254167, 47.2131800855]\n",
              "4  244400404_stations-velos-libre-service-nantes-metropole-disponibilites  ...           [-1.544071, 47.219009]\n",
              "\n",
              "[5 rows x 17 columns]"
            ]
          },
          "metadata": {
            "tags": []
          },
          "execution_count": 23
        }
      ]
    },
    {
      "cell_type": "code",
      "metadata": {
        "colab": {
          "base_uri": "https://localhost:8080/"
        },
        "id": "_Kzhkh5C44rk",
        "outputId": "eb6b36f2-0b01-48cf-b689-eeed46a48193"
      },
      "source": [
        "# listons nos variables\n",
        "# \"fields\" signifie que la notion a été lue dans une autre partie du data frame\n",
        "df.columns"
      ],
      "execution_count": null,
      "outputs": [
        {
          "output_type": "execute_result",
          "data": {
            "text/plain": [
              "Index(['datasetid', 'recordid', 'record_timestamp', 'fields.status',\n",
              "       'fields.contract_name', 'fields.name', 'fields.bonus',\n",
              "       'fields.bike_stands', 'fields.number', 'fields.last_update',\n",
              "       'fields.available_bike_stands', 'fields.banking',\n",
              "       'fields.available_bikes', 'fields.address', 'fields.position',\n",
              "       'geometry.type', 'geometry.coordinates'],\n",
              "      dtype='object')"
            ]
          },
          "metadata": {
            "tags": []
          },
          "execution_count": 24
        }
      ]
    },
    {
      "cell_type": "code",
      "metadata": {
        "id": "Bla94PJowY2v"
      },
      "source": [
        "# accéder à nos valeurs \n",
        "for k,v in data.items ():\n",
        "  if 'avilable_bikes' in data.values () : \n",
        "    print ('ok')"
      ],
      "execution_count": null,
      "outputs": []
    },
    {
      "cell_type": "code",
      "metadata": {
        "id": "hf_R6mtJk3iJ"
      },
      "source": [
        "# les variables utilisées\n",
        "bike= df[['fields.available_bikes' , 'fields.bike_stands', 'fields.address' ]]"
      ],
      "execution_count": null,
      "outputs": []
    },
    {
      "cell_type": "code",
      "metadata": {
        "colab": {
          "base_uri": "https://localhost:8080/"
        },
        "id": "IEdt4yqT7E-_",
        "outputId": "ce2773f4-fa7a-46b1-e17a-55b44c8a4e7c"
      },
      "source": [
        "bike['taux '] = bike [ 'fields.available_bikes']/bike ['fields.bike_stands' ]"
      ],
      "execution_count": null,
      "outputs": [
        {
          "output_type": "stream",
          "text": [
            "/usr/local/lib/python3.7/dist-packages/ipykernel_launcher.py:1: SettingWithCopyWarning: \n",
            "A value is trying to be set on a copy of a slice from a DataFrame.\n",
            "Try using .loc[row_indexer,col_indexer] = value instead\n",
            "\n",
            "See the caveats in the documentation: https://pandas.pydata.org/pandas-docs/stable/user_guide/indexing.html#returning-a-view-versus-a-copy\n",
            "  \"\"\"Entry point for launching an IPython kernel.\n"
          ],
          "name": "stderr"
        }
      ]
    },
    {
      "cell_type": "code",
      "metadata": {
        "colab": {
          "base_uri": "https://localhost:8080/",
          "height": 359
        },
        "id": "5LJunwR79t8M",
        "outputId": "31c3ff07-696b-4c47-89ce-832224ac8092"
      },
      "source": [
        "# data frame\n",
        "bike"
      ],
      "execution_count": null,
      "outputs": [
        {
          "output_type": "execute_result",
          "data": {
            "text/html": [
              "<div>\n",
              "<style scoped>\n",
              "    .dataframe tbody tr th:only-of-type {\n",
              "        vertical-align: middle;\n",
              "    }\n",
              "\n",
              "    .dataframe tbody tr th {\n",
              "        vertical-align: top;\n",
              "    }\n",
              "\n",
              "    .dataframe thead th {\n",
              "        text-align: right;\n",
              "    }\n",
              "</style>\n",
              "<table border=\"1\" class=\"dataframe\">\n",
              "  <thead>\n",
              "    <tr style=\"text-align: right;\">\n",
              "      <th></th>\n",
              "      <th>fields.available_bikes</th>\n",
              "      <th>fields.bike_stands</th>\n",
              "      <th>fields.address</th>\n",
              "      <th>taux</th>\n",
              "    </tr>\n",
              "  </thead>\n",
              "  <tbody>\n",
              "    <tr>\n",
              "      <th>0</th>\n",
              "      <td>0</td>\n",
              "      <td>20</td>\n",
              "      <td>5, boulevard de Berlin</td>\n",
              "      <td>0.000000</td>\n",
              "    </tr>\n",
              "    <tr>\n",
              "      <th>1</th>\n",
              "      <td>8</td>\n",
              "      <td>15</td>\n",
              "      <td>42, boulevard Gabriel Guist'Hau</td>\n",
              "      <td>0.533333</td>\n",
              "    </tr>\n",
              "    <tr>\n",
              "      <th>2</th>\n",
              "      <td>1</td>\n",
              "      <td>16</td>\n",
              "      <td>Pont de la Tortière - boulevard Eugène Orieux</td>\n",
              "      <td>0.062500</td>\n",
              "    </tr>\n",
              "    <tr>\n",
              "      <th>3</th>\n",
              "      <td>13</td>\n",
              "      <td>34</td>\n",
              "      <td>2, rue de Jemmapes - 2, avenue Jean-Claude Bonduelle</td>\n",
              "      <td>0.382353</td>\n",
              "    </tr>\n",
              "    <tr>\n",
              "      <th>4</th>\n",
              "      <td>16</td>\n",
              "      <td>40</td>\n",
              "      <td>Rue Stanislas Baudry</td>\n",
              "      <td>0.400000</td>\n",
              "    </tr>\n",
              "    <tr>\n",
              "      <th>5</th>\n",
              "      <td>8</td>\n",
              "      <td>15</td>\n",
              "      <td>9, cours Sully</td>\n",
              "      <td>0.533333</td>\n",
              "    </tr>\n",
              "    <tr>\n",
              "      <th>6</th>\n",
              "      <td>12</td>\n",
              "      <td>15</td>\n",
              "      <td>15, quai de Malakoff</td>\n",
              "      <td>0.800000</td>\n",
              "    </tr>\n",
              "    <tr>\n",
              "      <th>7</th>\n",
              "      <td>4</td>\n",
              "      <td>14</td>\n",
              "      <td>8, rue de l'Arche Sèche</td>\n",
              "      <td>0.285714</td>\n",
              "    </tr>\n",
              "    <tr>\n",
              "      <th>8</th>\n",
              "      <td>7</td>\n",
              "      <td>13</td>\n",
              "      <td>2, rue de Gigant - Place de l'Edit de Nantes</td>\n",
              "      <td>0.538462</td>\n",
              "    </tr>\n",
              "    <tr>\n",
              "      <th>9</th>\n",
              "      <td>4</td>\n",
              "      <td>15</td>\n",
              "      <td>4, rue des Carmélites - Place Tirant Lo Blanc</td>\n",
              "      <td>0.266667</td>\n",
              "    </tr>\n",
              "  </tbody>\n",
              "</table>\n",
              "</div>"
            ],
            "text/plain": [
              "   fields.available_bikes  ...     taux \n",
              "0                       0  ...  0.000000\n",
              "1                       8  ...  0.533333\n",
              "2                       1  ...  0.062500\n",
              "3                      13  ...  0.382353\n",
              "4                      16  ...  0.400000\n",
              "5                       8  ...  0.533333\n",
              "6                      12  ...  0.800000\n",
              "7                       4  ...  0.285714\n",
              "8                       7  ...  0.538462\n",
              "9                       4  ...  0.266667\n",
              "\n",
              "[10 rows x 4 columns]"
            ]
          },
          "metadata": {
            "tags": []
          },
          "execution_count": 28
        }
      ]
    },
    {
      "cell_type": "code",
      "metadata": {
        "colab": {
          "base_uri": "https://localhost:8080/"
        },
        "id": "szIoSED6-BuZ",
        "outputId": "3ae0c2f0-7b97-4a0d-d3b1-278893bfe52d"
      },
      "source": [
        "# supprimons les colonnes non utiles\n",
        "bike.drop ( ['fields.available_bikes','fields.bike_stands' ], axis=1, inplace = True)"
      ],
      "execution_count": null,
      "outputs": [
        {
          "output_type": "stream",
          "text": [
            "/usr/local/lib/python3.7/dist-packages/pandas/core/frame.py:4174: SettingWithCopyWarning: \n",
            "A value is trying to be set on a copy of a slice from a DataFrame\n",
            "\n",
            "See the caveats in the documentation: https://pandas.pydata.org/pandas-docs/stable/user_guide/indexing.html#returning-a-view-versus-a-copy\n",
            "  errors=errors,\n"
          ],
          "name": "stderr"
        }
      ]
    },
    {
      "cell_type": "code",
      "metadata": {
        "id": "GG1oH6yA-GC-",
        "colab": {
          "base_uri": "https://localhost:8080/",
          "height": 359
        },
        "outputId": "7acb7007-f1b7-42e0-d05e-2db207d606fa"
      },
      "source": [
        "# affichons les emplacements et les taux de remplissage\n",
        "bike"
      ],
      "execution_count": null,
      "outputs": [
        {
          "output_type": "execute_result",
          "data": {
            "text/html": [
              "<div>\n",
              "<style scoped>\n",
              "    .dataframe tbody tr th:only-of-type {\n",
              "        vertical-align: middle;\n",
              "    }\n",
              "\n",
              "    .dataframe tbody tr th {\n",
              "        vertical-align: top;\n",
              "    }\n",
              "\n",
              "    .dataframe thead th {\n",
              "        text-align: right;\n",
              "    }\n",
              "</style>\n",
              "<table border=\"1\" class=\"dataframe\">\n",
              "  <thead>\n",
              "    <tr style=\"text-align: right;\">\n",
              "      <th></th>\n",
              "      <th>fields.address</th>\n",
              "      <th>taux</th>\n",
              "    </tr>\n",
              "  </thead>\n",
              "  <tbody>\n",
              "    <tr>\n",
              "      <th>0</th>\n",
              "      <td>5, boulevard de Berlin</td>\n",
              "      <td>0.000000</td>\n",
              "    </tr>\n",
              "    <tr>\n",
              "      <th>1</th>\n",
              "      <td>42, boulevard Gabriel Guist'Hau</td>\n",
              "      <td>0.533333</td>\n",
              "    </tr>\n",
              "    <tr>\n",
              "      <th>2</th>\n",
              "      <td>Pont de la Tortière - boulevard Eugène Orieux</td>\n",
              "      <td>0.062500</td>\n",
              "    </tr>\n",
              "    <tr>\n",
              "      <th>3</th>\n",
              "      <td>2, rue de Jemmapes - 2, avenue Jean-Claude Bonduelle</td>\n",
              "      <td>0.382353</td>\n",
              "    </tr>\n",
              "    <tr>\n",
              "      <th>4</th>\n",
              "      <td>Rue Stanislas Baudry</td>\n",
              "      <td>0.400000</td>\n",
              "    </tr>\n",
              "    <tr>\n",
              "      <th>5</th>\n",
              "      <td>9, cours Sully</td>\n",
              "      <td>0.533333</td>\n",
              "    </tr>\n",
              "    <tr>\n",
              "      <th>6</th>\n",
              "      <td>15, quai de Malakoff</td>\n",
              "      <td>0.800000</td>\n",
              "    </tr>\n",
              "    <tr>\n",
              "      <th>7</th>\n",
              "      <td>8, rue de l'Arche Sèche</td>\n",
              "      <td>0.285714</td>\n",
              "    </tr>\n",
              "    <tr>\n",
              "      <th>8</th>\n",
              "      <td>2, rue de Gigant - Place de l'Edit de Nantes</td>\n",
              "      <td>0.538462</td>\n",
              "    </tr>\n",
              "    <tr>\n",
              "      <th>9</th>\n",
              "      <td>4, rue des Carmélites - Place Tirant Lo Blanc</td>\n",
              "      <td>0.266667</td>\n",
              "    </tr>\n",
              "  </tbody>\n",
              "</table>\n",
              "</div>"
            ],
            "text/plain": [
              "                                         fields.address     taux \n",
              "0                                5, boulevard de Berlin  0.000000\n",
              "1                       42, boulevard Gabriel Guist'Hau  0.533333\n",
              "2         Pont de la Tortière - boulevard Eugène Orieux  0.062500\n",
              "3  2, rue de Jemmapes - 2, avenue Jean-Claude Bonduelle  0.382353\n",
              "4                                  Rue Stanislas Baudry  0.400000\n",
              "5                                        9, cours Sully  0.533333\n",
              "6                                  15, quai de Malakoff  0.800000\n",
              "7                               8, rue de l'Arche Sèche  0.285714\n",
              "8          2, rue de Gigant - Place de l'Edit de Nantes  0.538462\n",
              "9         4, rue des Carmélites - Place Tirant Lo Blanc  0.266667"
            ]
          },
          "metadata": {
            "tags": []
          },
          "execution_count": 30
        }
      ]
    }
  ]
}